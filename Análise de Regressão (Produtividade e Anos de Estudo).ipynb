{
 "cells": [
  {
   "cell_type": "markdown",
   "id": "758f6952",
   "metadata": {},
   "source": [
    "# Bibliotecas"
   ]
  },
  {
   "cell_type": "code",
   "execution_count": 1,
   "id": "08f99011",
   "metadata": {},
   "outputs": [],
   "source": [
    "import pandas as pd \n",
    "import matplotlib.pyplot as plt \n",
    "import numpy as np \n",
    "import statsmodels.api as sm \n",
    "import yfinance as yf \n",
    "from datetime import datetime, timedelta\n",
    "import pylab\n",
    "from scipy import stats\n",
    "import seaborn as sns"
   ]
  },
  {
   "cell_type": "markdown",
   "id": "bc8b928f",
   "metadata": {},
   "source": [
    "# Base de Dados\n",
    "\n",
    "A base de dados para esse exercício foi extraído do site Our World in Data: \n",
    "\n",
    "Productivity: output per hour worked: https://ourworldindata.org/grapher/labor-productivity-per-hour-pennworldtable\n",
    "\n",
    "Average years of schooling: https://ourworldindata.org/grapher/mean-years-of-schooling-long-run"
   ]
  },
  {
   "cell_type": "code",
   "execution_count": 2,
   "id": "c58d512a",
   "metadata": {},
   "outputs": [],
   "source": [
    "#Extraíndo a base de dados com o Pandas\n",
    "\n",
    "ensino_superior = pd.read_csv(r\"C:\\Users\\emanu\\Downloads\\labor-productivity-per-hour-pennworldtable.csv\")\n",
    "produtividade_trabalho = pd.read_csv(r\"C:\\Users\\emanu\\Downloads\\mean-years-of-schooling-long-run.csv\")"
   ]
  },
  {
   "cell_type": "code",
   "execution_count": 3,
   "id": "765861f7",
   "metadata": {},
   "outputs": [
    {
     "data": {
      "text/plain": [
       "array([1972, 1973, 1974, 1975, 1976, 1977, 1978, 1979, 1980, 1981, 1982,\n",
       "       1983, 1984, 1985, 1986, 1987, 1988, 1989, 1990, 1991, 1992, 1993,\n",
       "       1994, 1995, 1996, 1997, 1998, 1999, 2000, 2001, 2002, 2003, 2004,\n",
       "       2005, 2006, 2007, 2008, 2009, 2010, 2011, 2012, 2013, 2014, 2015,\n",
       "       2016, 2017, 2018, 2019, 1950, 1951, 1952, 1953, 1954, 1955, 1956,\n",
       "       1957, 1958, 1959, 1960, 1961, 1962, 1963, 1964, 1965, 1966, 1967,\n",
       "       1968, 1969, 1970, 1971], dtype=int64)"
      ]
     },
     "execution_count": 3,
     "metadata": {},
     "output_type": "execute_result"
    }
   ],
   "source": [
    "#Anos que as pesquisas foram realizadas\n",
    "\n",
    "ensino_superior['Year'].unique()"
   ]
  },
  {
   "cell_type": "code",
   "execution_count": 4,
   "id": "d93f3a9d",
   "metadata": {},
   "outputs": [
    {
     "data": {
      "text/plain": [
       "array([1870, 1875, 1880, 1885, 1890, 1895, 1900, 1905, 1910, 1915, 1920,\n",
       "       1925, 1930, 1935, 1940, 1945, 1950, 1955, 1960, 1965, 1970, 1975,\n",
       "       1980, 1985, 1990, 1995, 2000, 2005, 2010, 2015, 2020], dtype=int64)"
      ]
     },
     "execution_count": 4,
     "metadata": {},
     "output_type": "execute_result"
    }
   ],
   "source": [
    "produtividade_trabalho['Year'].unique()"
   ]
  },
  {
   "cell_type": "code",
   "execution_count": 5,
   "id": "8e9309fd",
   "metadata": {},
   "outputs": [
    {
     "data": {
      "text/html": [
       "<div>\n",
       "<style scoped>\n",
       "    .dataframe tbody tr th:only-of-type {\n",
       "        vertical-align: middle;\n",
       "    }\n",
       "\n",
       "    .dataframe tbody tr th {\n",
       "        vertical-align: top;\n",
       "    }\n",
       "\n",
       "    .dataframe thead th {\n",
       "        text-align: right;\n",
       "    }\n",
       "</style>\n",
       "<table border=\"1\" class=\"dataframe\">\n",
       "  <thead>\n",
       "    <tr style=\"text-align: right;\">\n",
       "      <th></th>\n",
       "      <th>Entity</th>\n",
       "      <th>Code</th>\n",
       "      <th>Year</th>\n",
       "      <th>Productivity: output per hour worked</th>\n",
       "    </tr>\n",
       "  </thead>\n",
       "  <tbody>\n",
       "    <tr>\n",
       "      <th>43</th>\n",
       "      <td>Argentina</td>\n",
       "      <td>ARG</td>\n",
       "      <td>2015</td>\n",
       "      <td>26.997778</td>\n",
       "    </tr>\n",
       "    <tr>\n",
       "      <th>113</th>\n",
       "      <td>Australia</td>\n",
       "      <td>AUS</td>\n",
       "      <td>2015</td>\n",
       "      <td>56.053726</td>\n",
       "    </tr>\n",
       "    <tr>\n",
       "      <th>183</th>\n",
       "      <td>Austria</td>\n",
       "      <td>AUT</td>\n",
       "      <td>2015</td>\n",
       "      <td>62.702095</td>\n",
       "    </tr>\n",
       "    <tr>\n",
       "      <th>233</th>\n",
       "      <td>Bangladesh</td>\n",
       "      <td>BGD</td>\n",
       "      <td>2015</td>\n",
       "      <td>4.034060</td>\n",
       "    </tr>\n",
       "    <tr>\n",
       "      <th>303</th>\n",
       "      <td>Belgium</td>\n",
       "      <td>BEL</td>\n",
       "      <td>2015</td>\n",
       "      <td>66.488235</td>\n",
       "    </tr>\n",
       "    <tr>\n",
       "      <th>...</th>\n",
       "      <td>...</td>\n",
       "      <td>...</td>\n",
       "      <td>...</td>\n",
       "      <td>...</td>\n",
       "    </tr>\n",
       "    <tr>\n",
       "      <th>3188</th>\n",
       "      <td>Turkey</td>\n",
       "      <td>TUR</td>\n",
       "      <td>2015</td>\n",
       "      <td>41.479440</td>\n",
       "    </tr>\n",
       "    <tr>\n",
       "      <th>3258</th>\n",
       "      <td>United Kingdom</td>\n",
       "      <td>GBR</td>\n",
       "      <td>2015</td>\n",
       "      <td>53.376090</td>\n",
       "    </tr>\n",
       "    <tr>\n",
       "      <th>3328</th>\n",
       "      <td>United States</td>\n",
       "      <td>USA</td>\n",
       "      <td>2015</td>\n",
       "      <td>70.636710</td>\n",
       "    </tr>\n",
       "    <tr>\n",
       "      <th>3358</th>\n",
       "      <td>Uruguay</td>\n",
       "      <td>URY</td>\n",
       "      <td>2015</td>\n",
       "      <td>27.477356</td>\n",
       "    </tr>\n",
       "    <tr>\n",
       "      <th>3452</th>\n",
       "      <td>Vietnam</td>\n",
       "      <td>VNM</td>\n",
       "      <td>2015</td>\n",
       "      <td>4.946606</td>\n",
       "    </tr>\n",
       "  </tbody>\n",
       "</table>\n",
       "<p>65 rows × 4 columns</p>\n",
       "</div>"
      ],
      "text/plain": [
       "              Entity Code  Year  Productivity: output per hour worked\n",
       "43         Argentina  ARG  2015                             26.997778\n",
       "113        Australia  AUS  2015                             56.053726\n",
       "183          Austria  AUT  2015                             62.702095\n",
       "233       Bangladesh  BGD  2015                              4.034060\n",
       "303          Belgium  BEL  2015                             66.488235\n",
       "...              ...  ...   ...                                   ...\n",
       "3188          Turkey  TUR  2015                             41.479440\n",
       "3258  United Kingdom  GBR  2015                             53.376090\n",
       "3328   United States  USA  2015                             70.636710\n",
       "3358         Uruguay  URY  2015                             27.477356\n",
       "3452         Vietnam  VNM  2015                              4.946606\n",
       "\n",
       "[65 rows x 4 columns]"
      ]
     },
     "execution_count": 5,
     "metadata": {},
     "output_type": "execute_result"
    }
   ],
   "source": [
    "#Selecionado o ano mais recente comum a ambas as pesquisas\n",
    "\n",
    "ensino_superior = ensino_superior[ensino_superior['Year'] == 2015]\n",
    "ensino_superior"
   ]
  },
  {
   "cell_type": "code",
   "execution_count": 6,
   "id": "db5f0e28",
   "metadata": {},
   "outputs": [
    {
     "data": {
      "text/html": [
       "<div>\n",
       "<style scoped>\n",
       "    .dataframe tbody tr th:only-of-type {\n",
       "        vertical-align: middle;\n",
       "    }\n",
       "\n",
       "    .dataframe tbody tr th {\n",
       "        vertical-align: top;\n",
       "    }\n",
       "\n",
       "    .dataframe thead th {\n",
       "        text-align: right;\n",
       "    }\n",
       "</style>\n",
       "<table border=\"1\" class=\"dataframe\">\n",
       "  <thead>\n",
       "    <tr style=\"text-align: right;\">\n",
       "      <th></th>\n",
       "      <th>Entity</th>\n",
       "      <th>Code</th>\n",
       "      <th>Year</th>\n",
       "      <th>Combined - average years of education for 15-64 years male and female youth and adults</th>\n",
       "    </tr>\n",
       "  </thead>\n",
       "  <tbody>\n",
       "    <tr>\n",
       "      <th>29</th>\n",
       "      <td>Afghanistan</td>\n",
       "      <td>AFG</td>\n",
       "      <td>2015</td>\n",
       "      <td>4.810000</td>\n",
       "    </tr>\n",
       "    <tr>\n",
       "      <th>60</th>\n",
       "      <td>Africa</td>\n",
       "      <td>NaN</td>\n",
       "      <td>2015</td>\n",
       "      <td>6.195438</td>\n",
       "    </tr>\n",
       "    <tr>\n",
       "      <th>91</th>\n",
       "      <td>Albania</td>\n",
       "      <td>ALB</td>\n",
       "      <td>2015</td>\n",
       "      <td>9.990000</td>\n",
       "    </tr>\n",
       "    <tr>\n",
       "      <th>122</th>\n",
       "      <td>Algeria</td>\n",
       "      <td>DZA</td>\n",
       "      <td>2015</td>\n",
       "      <td>7.550000</td>\n",
       "    </tr>\n",
       "    <tr>\n",
       "      <th>153</th>\n",
       "      <td>Argentina</td>\n",
       "      <td>ARG</td>\n",
       "      <td>2015</td>\n",
       "      <td>9.590000</td>\n",
       "    </tr>\n",
       "    <tr>\n",
       "      <th>...</th>\n",
       "      <td>...</td>\n",
       "      <td>...</td>\n",
       "      <td>...</td>\n",
       "      <td>...</td>\n",
       "    </tr>\n",
       "    <tr>\n",
       "      <th>3602</th>\n",
       "      <td>Vietnam</td>\n",
       "      <td>VNM</td>\n",
       "      <td>2015</td>\n",
       "      <td>7.990000</td>\n",
       "    </tr>\n",
       "    <tr>\n",
       "      <th>3633</th>\n",
       "      <td>World</td>\n",
       "      <td>OWID_WRL</td>\n",
       "      <td>2015</td>\n",
       "      <td>8.478127</td>\n",
       "    </tr>\n",
       "    <tr>\n",
       "      <th>3664</th>\n",
       "      <td>Yemen</td>\n",
       "      <td>YEM</td>\n",
       "      <td>2015</td>\n",
       "      <td>4.640000</td>\n",
       "    </tr>\n",
       "    <tr>\n",
       "      <th>3695</th>\n",
       "      <td>Zambia</td>\n",
       "      <td>ZMB</td>\n",
       "      <td>2015</td>\n",
       "      <td>7.900000</td>\n",
       "    </tr>\n",
       "    <tr>\n",
       "      <th>3726</th>\n",
       "      <td>Zimbabwe</td>\n",
       "      <td>ZWE</td>\n",
       "      <td>2015</td>\n",
       "      <td>8.030000</td>\n",
       "    </tr>\n",
       "  </tbody>\n",
       "</table>\n",
       "<p>153 rows × 4 columns</p>\n",
       "</div>"
      ],
      "text/plain": [
       "           Entity      Code  Year  \\\n",
       "29    Afghanistan       AFG  2015   \n",
       "60         Africa       NaN  2015   \n",
       "91        Albania       ALB  2015   \n",
       "122       Algeria       DZA  2015   \n",
       "153     Argentina       ARG  2015   \n",
       "...           ...       ...   ...   \n",
       "3602      Vietnam       VNM  2015   \n",
       "3633        World  OWID_WRL  2015   \n",
       "3664        Yemen       YEM  2015   \n",
       "3695       Zambia       ZMB  2015   \n",
       "3726     Zimbabwe       ZWE  2015   \n",
       "\n",
       "      Combined - average years of education for 15-64 years male and female youth and adults  \n",
       "29                                             4.810000                                       \n",
       "60                                             6.195438                                       \n",
       "91                                             9.990000                                       \n",
       "122                                            7.550000                                       \n",
       "153                                            9.590000                                       \n",
       "...                                                 ...                                       \n",
       "3602                                           7.990000                                       \n",
       "3633                                           8.478127                                       \n",
       "3664                                           4.640000                                       \n",
       "3695                                           7.900000                                       \n",
       "3726                                           8.030000                                       \n",
       "\n",
       "[153 rows x 4 columns]"
      ]
     },
     "execution_count": 6,
     "metadata": {},
     "output_type": "execute_result"
    }
   ],
   "source": [
    "produtividade_trabalho = produtividade_trabalho[produtividade_trabalho['Year'] == 2015]\n",
    "produtividade_trabalho"
   ]
  },
  {
   "cell_type": "code",
   "execution_count": 7,
   "id": "6cd447f8",
   "metadata": {},
   "outputs": [
    {
     "data": {
      "text/html": [
       "<div>\n",
       "<style scoped>\n",
       "    .dataframe tbody tr th:only-of-type {\n",
       "        vertical-align: middle;\n",
       "    }\n",
       "\n",
       "    .dataframe tbody tr th {\n",
       "        vertical-align: top;\n",
       "    }\n",
       "\n",
       "    .dataframe thead th {\n",
       "        text-align: right;\n",
       "    }\n",
       "</style>\n",
       "<table border=\"1\" class=\"dataframe\">\n",
       "  <thead>\n",
       "    <tr style=\"text-align: right;\">\n",
       "      <th></th>\n",
       "      <th>Entity_x</th>\n",
       "      <th>Code</th>\n",
       "      <th>Year_x</th>\n",
       "      <th>Productivity: output per hour worked</th>\n",
       "      <th>Entity_y</th>\n",
       "      <th>Year_y</th>\n",
       "      <th>Combined - average years of education for 15-64 years male and female youth and adults</th>\n",
       "    </tr>\n",
       "  </thead>\n",
       "  <tbody>\n",
       "    <tr>\n",
       "      <th>0</th>\n",
       "      <td>Argentina</td>\n",
       "      <td>ARG</td>\n",
       "      <td>2015</td>\n",
       "      <td>26.997778</td>\n",
       "      <td>Argentina</td>\n",
       "      <td>2015</td>\n",
       "      <td>9.59</td>\n",
       "    </tr>\n",
       "    <tr>\n",
       "      <th>1</th>\n",
       "      <td>Australia</td>\n",
       "      <td>AUS</td>\n",
       "      <td>2015</td>\n",
       "      <td>56.053726</td>\n",
       "      <td>Australia</td>\n",
       "      <td>2015</td>\n",
       "      <td>12.92</td>\n",
       "    </tr>\n",
       "    <tr>\n",
       "      <th>2</th>\n",
       "      <td>Austria</td>\n",
       "      <td>AUT</td>\n",
       "      <td>2015</td>\n",
       "      <td>62.702095</td>\n",
       "      <td>Austria</td>\n",
       "      <td>2015</td>\n",
       "      <td>10.27</td>\n",
       "    </tr>\n",
       "    <tr>\n",
       "      <th>3</th>\n",
       "      <td>Bangladesh</td>\n",
       "      <td>BGD</td>\n",
       "      <td>2015</td>\n",
       "      <td>4.034060</td>\n",
       "      <td>Bangladesh</td>\n",
       "      <td>2015</td>\n",
       "      <td>6.76</td>\n",
       "    </tr>\n",
       "    <tr>\n",
       "      <th>4</th>\n",
       "      <td>Belgium</td>\n",
       "      <td>BEL</td>\n",
       "      <td>2015</td>\n",
       "      <td>66.488235</td>\n",
       "      <td>Belgium</td>\n",
       "      <td>2015</td>\n",
       "      <td>11.36</td>\n",
       "    </tr>\n",
       "    <tr>\n",
       "      <th>...</th>\n",
       "      <td>...</td>\n",
       "      <td>...</td>\n",
       "      <td>...</td>\n",
       "      <td>...</td>\n",
       "      <td>...</td>\n",
       "      <td>...</td>\n",
       "      <td>...</td>\n",
       "    </tr>\n",
       "    <tr>\n",
       "      <th>60</th>\n",
       "      <td>Turkey</td>\n",
       "      <td>TUR</td>\n",
       "      <td>2015</td>\n",
       "      <td>41.479440</td>\n",
       "      <td>Turkey</td>\n",
       "      <td>2015</td>\n",
       "      <td>8.13</td>\n",
       "    </tr>\n",
       "    <tr>\n",
       "      <th>61</th>\n",
       "      <td>United Kingdom</td>\n",
       "      <td>GBR</td>\n",
       "      <td>2015</td>\n",
       "      <td>53.376090</td>\n",
       "      <td>United Kingdom</td>\n",
       "      <td>2015</td>\n",
       "      <td>12.67</td>\n",
       "    </tr>\n",
       "    <tr>\n",
       "      <th>62</th>\n",
       "      <td>United States</td>\n",
       "      <td>USA</td>\n",
       "      <td>2015</td>\n",
       "      <td>70.636710</td>\n",
       "      <td>United States</td>\n",
       "      <td>2015</td>\n",
       "      <td>13.29</td>\n",
       "    </tr>\n",
       "    <tr>\n",
       "      <th>63</th>\n",
       "      <td>Uruguay</td>\n",
       "      <td>URY</td>\n",
       "      <td>2015</td>\n",
       "      <td>27.477356</td>\n",
       "      <td>Uruguay</td>\n",
       "      <td>2015</td>\n",
       "      <td>8.65</td>\n",
       "    </tr>\n",
       "    <tr>\n",
       "      <th>64</th>\n",
       "      <td>Vietnam</td>\n",
       "      <td>VNM</td>\n",
       "      <td>2015</td>\n",
       "      <td>4.946606</td>\n",
       "      <td>Vietnam</td>\n",
       "      <td>2015</td>\n",
       "      <td>7.99</td>\n",
       "    </tr>\n",
       "  </tbody>\n",
       "</table>\n",
       "<p>65 rows × 7 columns</p>\n",
       "</div>"
      ],
      "text/plain": [
       "          Entity_x Code  Year_x  Productivity: output per hour worked  \\\n",
       "0        Argentina  ARG    2015                             26.997778   \n",
       "1        Australia  AUS    2015                             56.053726   \n",
       "2          Austria  AUT    2015                             62.702095   \n",
       "3       Bangladesh  BGD    2015                              4.034060   \n",
       "4          Belgium  BEL    2015                             66.488235   \n",
       "..             ...  ...     ...                                   ...   \n",
       "60          Turkey  TUR    2015                             41.479440   \n",
       "61  United Kingdom  GBR    2015                             53.376090   \n",
       "62   United States  USA    2015                             70.636710   \n",
       "63         Uruguay  URY    2015                             27.477356   \n",
       "64         Vietnam  VNM    2015                              4.946606   \n",
       "\n",
       "          Entity_y  Year_y  \\\n",
       "0        Argentina    2015   \n",
       "1        Australia    2015   \n",
       "2          Austria    2015   \n",
       "3       Bangladesh    2015   \n",
       "4          Belgium    2015   \n",
       "..             ...     ...   \n",
       "60          Turkey    2015   \n",
       "61  United Kingdom    2015   \n",
       "62   United States    2015   \n",
       "63         Uruguay    2015   \n",
       "64         Vietnam    2015   \n",
       "\n",
       "    Combined - average years of education for 15-64 years male and female youth and adults  \n",
       "0                                                9.59                                       \n",
       "1                                               12.92                                       \n",
       "2                                               10.27                                       \n",
       "3                                                6.76                                       \n",
       "4                                               11.36                                       \n",
       "..                                                ...                                       \n",
       "60                                               8.13                                       \n",
       "61                                              12.67                                       \n",
       "62                                              13.29                                       \n",
       "63                                               8.65                                       \n",
       "64                                               7.99                                       \n",
       "\n",
       "[65 rows x 7 columns]"
      ]
     },
     "execution_count": 7,
     "metadata": {},
     "output_type": "execute_result"
    }
   ],
   "source": [
    "#Unindo ambas as bases de dados em uma só com base no código do país ('Code')\n",
    "\n",
    "base_dados = pd.merge(ensino_superior, produtividade_trabalho, on='Code')\n",
    "base_dados"
   ]
  },
  {
   "cell_type": "code",
   "execution_count": 8,
   "id": "36685e04",
   "metadata": {},
   "outputs": [
    {
     "data": {
      "text/html": [
       "<div>\n",
       "<style scoped>\n",
       "    .dataframe tbody tr th:only-of-type {\n",
       "        vertical-align: middle;\n",
       "    }\n",
       "\n",
       "    .dataframe tbody tr th {\n",
       "        vertical-align: top;\n",
       "    }\n",
       "\n",
       "    .dataframe thead th {\n",
       "        text-align: right;\n",
       "    }\n",
       "</style>\n",
       "<table border=\"1\" class=\"dataframe\">\n",
       "  <thead>\n",
       "    <tr style=\"text-align: right;\">\n",
       "      <th></th>\n",
       "      <th>Entity_x</th>\n",
       "      <th>Code</th>\n",
       "      <th>Year_x</th>\n",
       "      <th>Produtividade</th>\n",
       "      <th>Entity_y</th>\n",
       "      <th>Year_y</th>\n",
       "      <th>Anos de Estudo</th>\n",
       "    </tr>\n",
       "  </thead>\n",
       "  <tbody>\n",
       "    <tr>\n",
       "      <th>0</th>\n",
       "      <td>Argentina</td>\n",
       "      <td>ARG</td>\n",
       "      <td>2015</td>\n",
       "      <td>26.997778</td>\n",
       "      <td>Argentina</td>\n",
       "      <td>2015</td>\n",
       "      <td>9.59</td>\n",
       "    </tr>\n",
       "    <tr>\n",
       "      <th>1</th>\n",
       "      <td>Australia</td>\n",
       "      <td>AUS</td>\n",
       "      <td>2015</td>\n",
       "      <td>56.053726</td>\n",
       "      <td>Australia</td>\n",
       "      <td>2015</td>\n",
       "      <td>12.92</td>\n",
       "    </tr>\n",
       "    <tr>\n",
       "      <th>2</th>\n",
       "      <td>Austria</td>\n",
       "      <td>AUT</td>\n",
       "      <td>2015</td>\n",
       "      <td>62.702095</td>\n",
       "      <td>Austria</td>\n",
       "      <td>2015</td>\n",
       "      <td>10.27</td>\n",
       "    </tr>\n",
       "    <tr>\n",
       "      <th>3</th>\n",
       "      <td>Bangladesh</td>\n",
       "      <td>BGD</td>\n",
       "      <td>2015</td>\n",
       "      <td>4.034060</td>\n",
       "      <td>Bangladesh</td>\n",
       "      <td>2015</td>\n",
       "      <td>6.76</td>\n",
       "    </tr>\n",
       "    <tr>\n",
       "      <th>4</th>\n",
       "      <td>Belgium</td>\n",
       "      <td>BEL</td>\n",
       "      <td>2015</td>\n",
       "      <td>66.488235</td>\n",
       "      <td>Belgium</td>\n",
       "      <td>2015</td>\n",
       "      <td>11.36</td>\n",
       "    </tr>\n",
       "    <tr>\n",
       "      <th>...</th>\n",
       "      <td>...</td>\n",
       "      <td>...</td>\n",
       "      <td>...</td>\n",
       "      <td>...</td>\n",
       "      <td>...</td>\n",
       "      <td>...</td>\n",
       "      <td>...</td>\n",
       "    </tr>\n",
       "    <tr>\n",
       "      <th>60</th>\n",
       "      <td>Turkey</td>\n",
       "      <td>TUR</td>\n",
       "      <td>2015</td>\n",
       "      <td>41.479440</td>\n",
       "      <td>Turkey</td>\n",
       "      <td>2015</td>\n",
       "      <td>8.13</td>\n",
       "    </tr>\n",
       "    <tr>\n",
       "      <th>61</th>\n",
       "      <td>United Kingdom</td>\n",
       "      <td>GBR</td>\n",
       "      <td>2015</td>\n",
       "      <td>53.376090</td>\n",
       "      <td>United Kingdom</td>\n",
       "      <td>2015</td>\n",
       "      <td>12.67</td>\n",
       "    </tr>\n",
       "    <tr>\n",
       "      <th>62</th>\n",
       "      <td>United States</td>\n",
       "      <td>USA</td>\n",
       "      <td>2015</td>\n",
       "      <td>70.636710</td>\n",
       "      <td>United States</td>\n",
       "      <td>2015</td>\n",
       "      <td>13.29</td>\n",
       "    </tr>\n",
       "    <tr>\n",
       "      <th>63</th>\n",
       "      <td>Uruguay</td>\n",
       "      <td>URY</td>\n",
       "      <td>2015</td>\n",
       "      <td>27.477356</td>\n",
       "      <td>Uruguay</td>\n",
       "      <td>2015</td>\n",
       "      <td>8.65</td>\n",
       "    </tr>\n",
       "    <tr>\n",
       "      <th>64</th>\n",
       "      <td>Vietnam</td>\n",
       "      <td>VNM</td>\n",
       "      <td>2015</td>\n",
       "      <td>4.946606</td>\n",
       "      <td>Vietnam</td>\n",
       "      <td>2015</td>\n",
       "      <td>7.99</td>\n",
       "    </tr>\n",
       "  </tbody>\n",
       "</table>\n",
       "<p>65 rows × 7 columns</p>\n",
       "</div>"
      ],
      "text/plain": [
       "          Entity_x Code  Year_x  Produtividade        Entity_y  Year_y  \\\n",
       "0        Argentina  ARG    2015      26.997778       Argentina    2015   \n",
       "1        Australia  AUS    2015      56.053726       Australia    2015   \n",
       "2          Austria  AUT    2015      62.702095         Austria    2015   \n",
       "3       Bangladesh  BGD    2015       4.034060      Bangladesh    2015   \n",
       "4          Belgium  BEL    2015      66.488235         Belgium    2015   \n",
       "..             ...  ...     ...            ...             ...     ...   \n",
       "60          Turkey  TUR    2015      41.479440          Turkey    2015   \n",
       "61  United Kingdom  GBR    2015      53.376090  United Kingdom    2015   \n",
       "62   United States  USA    2015      70.636710   United States    2015   \n",
       "63         Uruguay  URY    2015      27.477356         Uruguay    2015   \n",
       "64         Vietnam  VNM    2015       4.946606         Vietnam    2015   \n",
       "\n",
       "    Anos de Estudo  \n",
       "0             9.59  \n",
       "1            12.92  \n",
       "2            10.27  \n",
       "3             6.76  \n",
       "4            11.36  \n",
       "..             ...  \n",
       "60            8.13  \n",
       "61           12.67  \n",
       "62           13.29  \n",
       "63            8.65  \n",
       "64            7.99  \n",
       "\n",
       "[65 rows x 7 columns]"
      ]
     },
     "execution_count": 8,
     "metadata": {},
     "output_type": "execute_result"
    }
   ],
   "source": [
    "#Alterando o nome das colunas por conveniência\n",
    "\n",
    "base_dados.rename(columns={'Productivity: output per hour worked': 'Produtividade',\n",
    "                           'Combined - average years of education for 15-64 years male and female youth and adults': 'Anos de Estudo'},\n",
    "                  inplace=True)\n",
    "\n",
    "base_dados"
   ]
  },
  {
   "cell_type": "code",
   "execution_count": 9,
   "id": "557d5ec3",
   "metadata": {},
   "outputs": [
    {
     "data": {
      "text/html": [
       "<div>\n",
       "<style scoped>\n",
       "    .dataframe tbody tr th:only-of-type {\n",
       "        vertical-align: middle;\n",
       "    }\n",
       "\n",
       "    .dataframe tbody tr th {\n",
       "        vertical-align: top;\n",
       "    }\n",
       "\n",
       "    .dataframe thead th {\n",
       "        text-align: right;\n",
       "    }\n",
       "</style>\n",
       "<table border=\"1\" class=\"dataframe\">\n",
       "  <thead>\n",
       "    <tr style=\"text-align: right;\">\n",
       "      <th></th>\n",
       "      <th>Produtividade</th>\n",
       "      <th>Anos de Estudo</th>\n",
       "    </tr>\n",
       "  </thead>\n",
       "  <tbody>\n",
       "    <tr>\n",
       "      <th>0</th>\n",
       "      <td>26.997778</td>\n",
       "      <td>9.59</td>\n",
       "    </tr>\n",
       "    <tr>\n",
       "      <th>1</th>\n",
       "      <td>56.053726</td>\n",
       "      <td>12.92</td>\n",
       "    </tr>\n",
       "    <tr>\n",
       "      <th>2</th>\n",
       "      <td>62.702095</td>\n",
       "      <td>10.27</td>\n",
       "    </tr>\n",
       "    <tr>\n",
       "      <th>3</th>\n",
       "      <td>4.034060</td>\n",
       "      <td>6.76</td>\n",
       "    </tr>\n",
       "    <tr>\n",
       "      <th>4</th>\n",
       "      <td>66.488235</td>\n",
       "      <td>11.36</td>\n",
       "    </tr>\n",
       "    <tr>\n",
       "      <th>...</th>\n",
       "      <td>...</td>\n",
       "      <td>...</td>\n",
       "    </tr>\n",
       "    <tr>\n",
       "      <th>60</th>\n",
       "      <td>41.479440</td>\n",
       "      <td>8.13</td>\n",
       "    </tr>\n",
       "    <tr>\n",
       "      <th>61</th>\n",
       "      <td>53.376090</td>\n",
       "      <td>12.67</td>\n",
       "    </tr>\n",
       "    <tr>\n",
       "      <th>62</th>\n",
       "      <td>70.636710</td>\n",
       "      <td>13.29</td>\n",
       "    </tr>\n",
       "    <tr>\n",
       "      <th>63</th>\n",
       "      <td>27.477356</td>\n",
       "      <td>8.65</td>\n",
       "    </tr>\n",
       "    <tr>\n",
       "      <th>64</th>\n",
       "      <td>4.946606</td>\n",
       "      <td>7.99</td>\n",
       "    </tr>\n",
       "  </tbody>\n",
       "</table>\n",
       "<p>65 rows × 2 columns</p>\n",
       "</div>"
      ],
      "text/plain": [
       "    Produtividade  Anos de Estudo\n",
       "0       26.997778            9.59\n",
       "1       56.053726           12.92\n",
       "2       62.702095           10.27\n",
       "3        4.034060            6.76\n",
       "4       66.488235           11.36\n",
       "..            ...             ...\n",
       "60      41.479440            8.13\n",
       "61      53.376090           12.67\n",
       "62      70.636710           13.29\n",
       "63      27.477356            8.65\n",
       "64       4.946606            7.99\n",
       "\n",
       "[65 rows x 2 columns]"
      ]
     },
     "execution_count": 9,
     "metadata": {},
     "output_type": "execute_result"
    }
   ],
   "source": [
    "#Selecionando os dados que serão utilizados na regressão\n",
    "\n",
    "dados_regressao = base_dados[['Produtividade','Anos de Estudo']]\n",
    "dados_regressao"
   ]
  },
  {
   "cell_type": "markdown",
   "id": "b297bc28",
   "metadata": {},
   "source": [
    "### Distribuição dos Dados\n",
    "\n",
    "O gráfico de dispersão (scatter plot) fornece insights preliminares sobre a relação estatística entre as variáveis observadas.\n",
    "\n",
    "Podemos calcular a correlação conforme fórmula abaixo: \n",
    "\n",
    "$\n",
    "corr ( X, Y ) = \\frac{\\sum{(x_i - \\bar{x})(y_i - \\bar{y})}}{\\sqrt{\\sum{(x_i - \\bar{x})^2} \\sum{(y_i - \\bar{y})^2}}}\n",
    "$"
   ]
  },
  {
   "cell_type": "code",
   "execution_count": 10,
   "id": "c695eacf",
   "metadata": {},
   "outputs": [
    {
     "data": {
      "text/plain": [
       "0.712"
      ]
     },
     "execution_count": 10,
     "metadata": {},
     "output_type": "execute_result"
    }
   ],
   "source": [
    "#Correlação entre os dados\n",
    "\n",
    "correlacao = dados_regressao['Produtividade'].corr(dados_regressao['Anos de Estudo'])\n",
    "round(correlacao,3)"
   ]
  },
  {
   "cell_type": "code",
   "execution_count": 11,
   "id": "339b209d",
   "metadata": {
    "scrolled": false
   },
   "outputs": [
    {
     "data": {
      "text/plain": [
       "<matplotlib.legend.Legend at 0x1d371f3f090>"
      ]
     },
     "execution_count": 11,
     "metadata": {},
     "output_type": "execute_result"
    },
    {
     "data": {
      "image/png": "[encoded data removed]",
      "text/plain": [
       "<Figure size 640x480 with 1 Axes>"
      ]
     },
     "metadata": {},
     "output_type": "display_data"
    }
   ],
   "source": [
    "#Gráfico de Dispersão (Scatter Plot)\n",
    "\n",
    "plt.scatter(dados_regressao['Anos de Estudo'], dados_regressao['Produtividade'],\n",
    "            label = f\"Correlação : {round(correlacao*100,1)} %\")\n",
    "plt.ylabel('Produtividade')\n",
    "plt.xlabel('Anos de Estudo')\n",
    "plt.title('Produtividade e Anos de Estudo')\n",
    "plt.legend()"
   ]
  },
  {
   "cell_type": "markdown",
   "id": "4dc38dad",
   "metadata": {},
   "source": [
    "# Regressão Linear Simples\n",
    "\n",
    "A análise de regressão é uma técnica estatística que busca explicar a relação de dependência entre uma variável a ser explicada (dependente) e uma ou mais variáveis explanatórias (independentes), alguns exemplos que o Woodridge traz é a relação entre produção de soja e uso de fertilizantes ou dos salários em relação a anos de estudo. A função de regressão da população (FRP) pode ser representado conforme a função abaixo: \n",
    "\n",
    "$\n",
    "Y_i = \\beta_0 + \\beta_1 X_i + u_i \\\\\n",
    "$ \n",
    "\n",
    "$\n",
    "Y_i = \\text{Variável dependente} \\\\[1pt]\n",
    "X_i = \\text{Variável independente} \\\\[1pt]\n",
    "\\beta_0 = \\text{Constante ou intercepto} \\\\[1pt]\n",
    "\\beta_1 = \\text{Coeficiente angular} \\\\[1pt]\n",
    "u_i = \\text{Erro}\n",
    "$\n",
    "\n",
    "O método utilizado para estimar a função de regressão da amostra (FRA) é o Método dos Mínimos Quadrados (MQQ) que busca estimar os valores de $\\hat{Y}_i$ que minimizem $\\sum_{} \\hat{u}_i^2$. Isso será explicado melhor em diante. "
   ]
  },
  {
   "attachments": {},
   "cell_type": "markdown",
   "id": "03790bae",
   "metadata": {},
   "source": [
    "### Preparando os cálculos\n",
    "\n",
    "Como a regressão linear buscar estabelecer uma relação linear entre as variáveis, é importante que os dados apresentem uma relação linear, entretanto pode ser caso que a nossa variável explicativa não explique a uma taxa constante (linear) a variável explicada. É razoável supor que nem toda variável crescente ou varia linearmente, como o crescimento de uma população de bactérias ou um saldo que é capitalizado a juros compostos que crescem exponencialmente, neste caso é possível encontrar uma aproximação da taxa constante de variação por meio do log natural. \n",
    "\n",
    "Funções Exponenciais (+ Log Natural): https://www.uel.br/projetos/matessencial/basico/medio/exponenciais.html\n",
    "\n",
    "Como pode-se observar nos gráficos de dispersão abaixo, foi feito a transformação logarítimica da produtividade mantido inalterado os anos de estudo. Conseguimos aumentar o grau de correlação linear entre os dados e estabelecer uma melhor relação linear como veremos adiante: "
   ]
  },
  {
   "cell_type": "code",
   "execution_count": 12,
   "id": "a59bd976",
   "metadata": {},
   "outputs": [
    {
     "data": {
      "text/plain": [
       "<matplotlib.legend.Legend at 0x1d373cbe7d0>"
      ]
     },
     "execution_count": 12,
     "metadata": {},
     "output_type": "execute_result"
    },
    {
     "data": {
      "image/png": "[encoded data removed]",
      "text/plain": [
       "<Figure size 1200x400 with 2 Axes>"
      ]
     },
     "metadata": {},
     "output_type": "display_data"
    }
   ],
   "source": [
    "plt.figure(figsize=(12,4))\n",
    "\n",
    "plt.subplot(1,2,1)\n",
    "plt.scatter(dados_regressao['Anos de Estudo'], dados_regressao['Produtividade'],\n",
    "            label = f\"Correlação : {round(correlacao*100,1)} %\")\n",
    "plt.ylabel('Produtividade')\n",
    "plt.xlabel('Anos de Estudo')\n",
    "plt.title('Anos de Estudo e Produtividade')\n",
    "plt.legend()\n",
    "\n",
    "plt.subplot(1,2,2)\n",
    "plt.scatter(dados_regressao['Anos de Estudo'], np.log(dados_regressao['Produtividade']),\n",
    "            label = f\"Correlação : {round(np.log(dados_regressao['Produtividade']).corr(dados_regressao['Anos de Estudo'])*100,1)} %\")\n",
    "plt.ylabel('Produtividade')\n",
    "plt.xlabel('Anos de Estudo')\n",
    "plt.title('Log Anos de Estudo e Produtividade')\n",
    "plt.legend()"
   ]
  },
  {
   "cell_type": "code",
   "execution_count": 13,
   "id": "8ba63fe0",
   "metadata": {},
   "outputs": [],
   "source": [
    "# Atribuíndo qual variável será a dependente (explicada) e a independente (explicativa)\n",
    "\n",
    "df = dados_regressao[['Produtividade','Anos de Estudo']]\n",
    "\n",
    "y = np.log(dados_regressao['Produtividade'])\n",
    "x = dados_regressao['Anos de Estudo']"
   ]
  },
  {
   "cell_type": "markdown",
   "id": "bb17fe2c",
   "metadata": {},
   "source": [
    "### Método dos Mínimos Quadrados\n",
    "\n",
    "Encontrar a melhor reta de regressão significa encontrar a FRA que minimizr a $\\sum_{} \\hat{u}_i$ que é igual a diferença dos valores efetivamente observados e dos valores estimados da nossa variável dependente: $\\sum_{} (Y_i - \\hat{Y}_i)$. Entretanto, essa minimização não leva em consideração a dispersão dos erros, é possível ter uma mesma soma de erros com amplitudes diferentes, a solução é elevar ao quadrado os resíduos e somar os resultados de tal modo que o conjunto de resíduos com valores mais dispersos terão um somatório maior enquanto os com menor dispersão serão menores.\n",
    "\n",
    "O problema então pode ser representado como: \n",
    "\n",
    "$min \\sum_{} \\hat{u}_i^2 = \\sum_{} (Y_i - \\hat{Y}_i)^2$.\n",
    "\n",
    "### Equações Normais\n",
    "\n",
    "Considerando que a FRA é igual a $\\hat{Y}_i = \\hat{\\beta}_0 + \\hat{\\beta}_1 X_i$, podemos substituir $\\sum_{} \\hat{u}_i^2 = \\sum_{} (Y_i - \\hat{Y}_i)^2$ por $\\sum_{} \\hat{u}_i^2 = \\sum_{} (Y_i - \\color{red}{\\hat{\\beta}_0 - \\hat{\\beta}_1 X_i})^2$. A derivada parcial em relação a $\\hat{\\beta}_i$ igualando a zero pode ser representada como: \n",
    "\n",
    "$\\large \\frac{\\partial (\\sum_{} \\hat{u}_i^2)}{\\partial \\hat{\\beta}_0}$ $= - 2 \\sum_{} (Y_i - \\hat{\\beta}_0 - \\hat{\\beta}_1 X_i) = -2\\sum_{} \\hat{u}_i = 0$\n",
    "\n",
    "$\\large \\frac{\\partial (\\sum_{} \\hat{u}_i^2)}{\\partial \\hat{\\beta}_1}$ $= - 2 \\sum_{} (Y_i - \\hat{\\beta}_0 - \\hat{\\beta}_1 X_i) X_i = -2\\sum_{} \\hat{u}_i X_i = 0 $\n",
    "\n",
    "Resolvendo $\\hat{\\beta}_0$:\n",
    "\n",
    "$\n",
    "\\sum_{} (Y_i - \\hat{\\beta}_0 - \\hat{\\beta}_1 X_i) = 0\\\\\n",
    "\\sum_{} Y_i  - \\sum_{} \\hat{\\beta}_0  - \\sum_{} \\hat{\\beta}_1 X_i   = 0\\\\\n",
    "n \\hat{\\beta}_0 = n \\bar{Y_i}  - n \\beta_i \\bar{X_i}\\\\\n",
    "\\hat{\\beta}_0 = \\color{red}{\\bar{Y_i}  - \\beta_i \\bar{X_i}}\\\\\n",
    "$\n",
    "\n",
    "Resolvendo $\\hat{\\beta}_1$:\n",
    "\n",
    "$\n",
    "\\sum_{} (Y_i - \\hat{\\beta}_0 - \\hat{\\beta}_1 X_i) X_i = 0\\\\\n",
    "\\sum_{} Y_i X_i -  (\\color{red}{\\bar{Y_i}  - \\beta_i \\bar{X_i}}) \\sum_{}  X_i -  \\hat{\\beta}_1 \\sum_{} X_i^2  = 0\\\\\n",
    "\\sum_{} Y_i X_i - \\bar{Y_i}\\sum_{}  X_i  + \\beta_i \\bar{X_i} \\sum_{}  X_i  -  \\hat{\\beta}_1 \\sum_{} X_i^2  = 0\\\\\n",
    "\\sum_{} Y_i X_i - n \\bar{Y_i} \\bar{X_i}  + n \\beta_i \\bar{X_i} \\bar{X_i}  -  \\hat{\\beta}_1 \\sum_{} X_i^2  = 0\\\\\n",
    "\\sum_{} Y_i X_i - n \\bar{Y_i} \\bar{X_i} = \\hat{\\beta}_1 \\sum_{} X_i^2 - n \\hat{\\beta}_i \\bar{X_i} \\bar{X_i}\\\\\n",
    "\\sum_{} Y_i X_i - n \\bar{Y_i} \\bar{X_i} = \\hat{\\beta}_1 (\\sum_{} X_i^2 - n \\bar{X_i}^2)\\\\\n",
    "\\hat{\\beta}_1 = \\large \\frac{\\sum_{} Y_i X_i - n \\bar{Y_i} \\bar{X_i}}{\\sum_{} X_i^2 - n \\bar{X_i}^2}\\\\\n",
    "$\n",
    "\n",
    "Link: https://are.berkeley.edu/courses/EEP118/current/section/derivation.pdf"
   ]
  },
  {
   "cell_type": "markdown",
   "id": "d339f27b",
   "metadata": {},
   "source": [
    "### Coeficiente Angular\n",
    "\n",
    "Formula para o cálculo do coeficiente angular:\n",
    "\n",
    "$\n",
    "\\hat{\\beta}_1 = \\large \\frac{\\sum_{} Y_i X_i - n \\bar{Y_i} \\bar{X_i}}{\\sum_{} X_i^2 - n \\bar{X_i}^2}\n",
    "$"
   ]
  },
  {
   "cell_type": "code",
   "execution_count": 14,
   "id": "b610a456",
   "metadata": {},
   "outputs": [
    {
     "data": {
      "text/plain": [
       "0.33176508832884744"
      ]
     },
     "execution_count": 14,
     "metadata": {},
     "output_type": "execute_result"
    }
   ],
   "source": [
    "b = (sum(y*x) - len(y)*y.mean()*x.mean()) / (sum(x**2)-len(x)*x.mean()**2) \n",
    "b"
   ]
  },
  {
   "cell_type": "markdown",
   "id": "4f011152",
   "metadata": {},
   "source": [
    "### Constante\n",
    "\n",
    "Formula para o cálculo da constante.\n",
    "\n",
    "$\n",
    "\\hat{\\beta}_0 = \\bar{Y} - \\hat{\\beta}_1 \\cdot \\bar{X} \\\n",
    "$"
   ]
  },
  {
   "cell_type": "code",
   "execution_count": 15,
   "id": "06c5864d",
   "metadata": {},
   "outputs": [
    {
     "data": {
      "text/plain": [
       "-0.18441024312445142"
      ]
     },
     "execution_count": 15,
     "metadata": {},
     "output_type": "execute_result"
    }
   ],
   "source": [
    "a = y.mean() - b*x.mean()\n",
    "a"
   ]
  },
  {
   "cell_type": "markdown",
   "id": "6fa56562",
   "metadata": {},
   "source": [
    "### Abordagem Matricial\n",
    "\n",
    "Outra forma de calcular é pelo método matricial que se torna praticamente imperativa ao lidar com mais de uma variável explanatória (regressão linear múltipla).\n",
    "\n",
    "$\\beta = (X^TX)^{-1}X^TY$\n",
    "\n",
    "Link: https://web.stanford.edu/~mrosenfe/soc_meth_proj3/matrix_OLS_NYU_notes.pdf\n",
    "\n",
    "Link_2: https://online.stat.psu.edu/stat462/node/132/"
   ]
  },
  {
   "cell_type": "code",
   "execution_count": 16,
   "id": "6754431d",
   "metadata": {},
   "outputs": [
    {
     "name": "stdout",
     "output_type": "stream",
     "text": [
      "Intercepto: -0.184\n",
      "Coeficiente Angular: 0.332\n"
     ]
    }
   ],
   "source": [
    "Y_matrix = y.values\n",
    "X_matrix = np.column_stack((np.ones_like(x.values), x.values))\n",
    "\n",
    "beta = np.linalg.inv(X_matrix.T @ X_matrix) @ X_matrix.T @ y\n",
    "\n",
    "# Imprimir os coeficientes encontrados\n",
    "print(\"Intercepto:\", round(beta[0],3))\n",
    "print(\"Coeficiente Angular:\", round(beta[1],3))"
   ]
  },
  {
   "cell_type": "markdown",
   "id": "3bf8564b",
   "metadata": {},
   "source": [
    "### Previsão\n",
    "\n",
    "Visto que já encontramos a nossa constante $\\hat{\\beta}_0$ e o coeficiente angular $\\hat{\\beta}_1$, podemos estimar os valores de $\\hat{Y}_i$ associado a cada valor observado de $X_i$ segundo o modelo de regressão que construímos. O ideal é que estejam o mais próximo possível dos valores efetivamente observados de $Y_i$.\n",
    "\n",
    "$\\hat{Y}_i = \\hat{\\beta}_0 + \\hat{\\beta}_1 X_i$"
   ]
  },
  {
   "cell_type": "code",
   "execution_count": 17,
   "id": "87c593f8",
   "metadata": {},
   "outputs": [
    {
     "data": {
      "text/html": [
       "<div>\n",
       "<style scoped>\n",
       "    .dataframe tbody tr th:only-of-type {\n",
       "        vertical-align: middle;\n",
       "    }\n",
       "\n",
       "    .dataframe tbody tr th {\n",
       "        vertical-align: top;\n",
       "    }\n",
       "\n",
       "    .dataframe thead th {\n",
       "        text-align: right;\n",
       "    }\n",
       "</style>\n",
       "<table border=\"1\" class=\"dataframe\">\n",
       "  <thead>\n",
       "    <tr style=\"text-align: right;\">\n",
       "      <th></th>\n",
       "      <th>Produtividade</th>\n",
       "      <th>Previsto</th>\n",
       "    </tr>\n",
       "  </thead>\n",
       "  <tbody>\n",
       "    <tr>\n",
       "      <th>0</th>\n",
       "      <td>26.997778</td>\n",
       "      <td>2.997217</td>\n",
       "    </tr>\n",
       "    <tr>\n",
       "      <th>1</th>\n",
       "      <td>56.053726</td>\n",
       "      <td>4.101995</td>\n",
       "    </tr>\n",
       "    <tr>\n",
       "      <th>2</th>\n",
       "      <td>62.702095</td>\n",
       "      <td>3.222817</td>\n",
       "    </tr>\n",
       "    <tr>\n",
       "      <th>3</th>\n",
       "      <td>4.034060</td>\n",
       "      <td>2.058322</td>\n",
       "    </tr>\n",
       "    <tr>\n",
       "      <th>4</th>\n",
       "      <td>66.488235</td>\n",
       "      <td>3.584441</td>\n",
       "    </tr>\n",
       "    <tr>\n",
       "      <th>...</th>\n",
       "      <td>...</td>\n",
       "      <td>...</td>\n",
       "    </tr>\n",
       "    <tr>\n",
       "      <th>60</th>\n",
       "      <td>41.479440</td>\n",
       "      <td>2.512840</td>\n",
       "    </tr>\n",
       "    <tr>\n",
       "      <th>61</th>\n",
       "      <td>53.376090</td>\n",
       "      <td>4.019053</td>\n",
       "    </tr>\n",
       "    <tr>\n",
       "      <th>62</th>\n",
       "      <td>70.636710</td>\n",
       "      <td>4.224748</td>\n",
       "    </tr>\n",
       "    <tr>\n",
       "      <th>63</th>\n",
       "      <td>27.477356</td>\n",
       "      <td>2.685358</td>\n",
       "    </tr>\n",
       "    <tr>\n",
       "      <th>64</th>\n",
       "      <td>4.946606</td>\n",
       "      <td>2.466393</td>\n",
       "    </tr>\n",
       "  </tbody>\n",
       "</table>\n",
       "<p>65 rows × 2 columns</p>\n",
       "</div>"
      ],
      "text/plain": [
       "    Produtividade  Previsto\n",
       "0       26.997778  2.997217\n",
       "1       56.053726  4.101995\n",
       "2       62.702095  3.222817\n",
       "3        4.034060  2.058322\n",
       "4       66.488235  3.584441\n",
       "..            ...       ...\n",
       "60      41.479440  2.512840\n",
       "61      53.376090  4.019053\n",
       "62      70.636710  4.224748\n",
       "63      27.477356  2.685358\n",
       "64       4.946606  2.466393\n",
       "\n",
       "[65 rows x 2 columns]"
      ]
     },
     "execution_count": 17,
     "metadata": {},
     "output_type": "execute_result"
    }
   ],
   "source": [
    "#Cálculo da previsão\n",
    "\n",
    "df['Previsto'] = a + b * x\n",
    "df[['Produtividade','Previsto']]"
   ]
  },
  {
   "cell_type": "code",
   "execution_count": null,
   "id": "7b512eb2",
   "metadata": {},
   "outputs": [],
   "source": [
    "plt.figure(figsize=(12,2))\n",
    "\n",
    "plt.plot(y, label = 'Observado')\n",
    "plt.plot(df['Previsto'], label = 'Previsto')\n",
    "plt.title(\"Produtividade observada e prevista\")\n",
    "plt.xlabel('Observação')\n",
    "plt.ylabel('ln (Produtividade)')\n",
    "plt.legend()\n",
    "plt.show()"
   ]
  },
  {
   "cell_type": "markdown",
   "id": "a7e41274",
   "metadata": {},
   "source": [
    "### Resíduos\n",
    "\n",
    "O erro $u_i$ é simplesmente a diferença do valor previsto $\\hat{Y}_i$ em relação aos valores efetivamente observados de $Y_i$, representa os resíduos que não são explicados pelo modelo de regressão. A ideia de utilizar o MQO (Mínimos Quadrados Ordinários) é encontrar a FRA (Função de Regressão Amostral) que minimize $\\sum_{} \\hat{u}_i^2$. Matematicamente pode ser expresso da seguinte forma: \n",
    "\n",
    "$\\hat{u}_i = Y_i - \\hat{Y_i}$\n",
    "\n",
    "O modelo clássico de regressão linear pressupõe que os termos de erro $\\hat{u}_i$ são não-correlacionados com variável explicativa, isso é um pressuposto importante pois se queremos um modelo que possa ser generalizado ele não pode depender dos coeficientes estimados. No Estatística Básica do Bussab e Morettin (2005) sugere-se plotar em um gráfico de dispersão os resíduos e no gráfico Q-Q para visualizar se respeitam a hipótese de normalidade:"
   ]
  },
  {
   "cell_type": "code",
   "execution_count": 19,
   "id": "15096e92",
   "metadata": {},
   "outputs": [
    {
     "data": {
      "text/plain": [
       "0     0.298538\n",
       "1    -0.075684\n",
       "2     0.915578\n",
       "3    -0.663548\n",
       "4     0.612584\n",
       "        ...   \n",
       "60    1.212358\n",
       "61   -0.041691\n",
       "62    0.032802\n",
       "63    0.628004\n",
       "64   -0.867691\n",
       "Name: Residuos, Length: 65, dtype: float64"
      ]
     },
     "execution_count": 19,
     "metadata": {},
     "output_type": "execute_result"
    }
   ],
   "source": [
    "#Cálculo dos resíduos\n",
    "\n",
    "df['Residuos'] = y - df['Previsto']\n",
    "df['Residuos']"
   ]
  },
  {
   "cell_type": "code",
   "execution_count": 20,
   "id": "c5d61480",
   "metadata": {},
   "outputs": [
    {
     "name": "stdout",
     "output_type": "stream",
     "text": [
      "Correlação entre resíduos defasados -0.13856094174082356\n",
      "Média dos resíduos -3.0403030520504287e-16\n"
     ]
    },
    {
     "data": {
      "image/png": "[encoded data removed]",
      "text/plain": [
       "<Figure size 1200x400 with 3 Axes>"
      ]
     },
     "metadata": {},
     "output_type": "display_data"
    }
   ],
   "source": [
    "plt.figure(figsize=(12,4))\n",
    "\n",
    "#Gráfico variação dos resíduos\n",
    "plt.subplot(1,3,1)\n",
    "plt.plot(df['Residuos'], label = f\"Média: {round(df['Residuos'].mean(),20)}\")\n",
    "plt.axhline(y=0, color='red', linestyle='--')\n",
    "plt.xticks([])\n",
    "plt.legend()\n",
    "\n",
    "#Gráfico de Dispersão dos Resíduos\n",
    "plt.subplot(1,3,2)\n",
    "plt.scatter(df['Residuos'], x, label = f\"Correlaçao: {round(df['Residuos'].corr(x),20)}\")\n",
    "plt.ylabel('Resíduos')\n",
    "plt.xlabel('Resíduos (t-1)')\n",
    "plt.title('Distribuição dos Resíduos')\n",
    "plt.legend()\n",
    "\n",
    "#Gráfico Q-Q\n",
    "plt.subplot(1,3,3)\n",
    "stats.probplot(df['Residuos'], dist=\"norm\", fit =True, plot=pylab);\n",
    "\n",
    "print(f\"Correlação entre resíduos defasados {df['Residuos'].corr(df['Residuos'].shift(1))}\")\n",
    "print(f\"Média dos resíduos {df['Residuos'].mean()}\")"
   ]
  },
  {
   "cell_type": "markdown",
   "id": "4f937668",
   "metadata": {},
   "source": [
    "### Teste d de Durbin-Watson\n",
    "\n",
    "O teste mais famoso indicado pelo Gujarati para avaliar se há autocorrelação entre os termos de erro é o teste d de Durbin-Watson que fornece valores que vão de 0 à 4 e quanto mais próximo de 2 indica que não há correlação. \n",
    "\n",
    "$\n",
    "d = \\large \\frac{\\sum_{i=2}^{n} (u_i - u_{i-1})^2}{\\sum_{i=1}^{n} u_i^2}\n",
    "$"
   ]
  },
  {
   "cell_type": "code",
   "execution_count": 21,
   "id": "5efa24d7",
   "metadata": {},
   "outputs": [
    {
     "name": "stdout",
     "output_type": "stream",
     "text": [
      "Teste d de Durbin-Watson 2.2007886493596103\n"
     ]
    }
   ],
   "source": [
    "df['Residuos']-df['Residuos'].shift(1)\n",
    "\n",
    "# Teste d de Durbin-Watson\n",
    "estatistica_dw = sum(((df['Residuos']-df['Residuos'].shift(1)).dropna())**2) / sum(df['Residuos']**2)\n",
    "print(f\"Teste d de Durbin-Watson {estatistica_dw}\")"
   ]
  },
  {
   "cell_type": "markdown",
   "id": "e84d4bb9",
   "metadata": {},
   "source": [
    "## Coeficiente de Determinação - R2\n",
    "\n",
    "É uma medida estatística que mede o quão bem os resultados da FRA se ajustam aos valores observados da variável dependente observada $Y_i$, também pode ser chamado de qualidade de ajuste. Um caso hipotético seria onde todos os valores estimados da variável dependente fossem iguais aos valores observados ($Y_i = \\hat{Y}_i$), neste caso não haveria resíduos ($SQRes= 0$) e o coeficiente de determinação $R^2$ seria igual a 1.\n",
    "\n",
    "$\n",
    "R^2 = 1 - \\large \\frac{SQRes}{SQReg}\n",
    "$"
   ]
  },
  {
   "cell_type": "code",
   "execution_count": 22,
   "id": "fbf6768e",
   "metadata": {
    "scrolled": true
   },
   "outputs": [
    {
     "data": {
      "text/plain": [
       "0.7007"
      ]
     },
     "execution_count": 22,
     "metadata": {},
     "output_type": "execute_result"
    }
   ],
   "source": [
    "#Soma dos Quadrados dos Resíduos\n",
    "SQRes = sum(df['Residuos']**2)\n",
    "\n",
    "#Soma dos Quadrados Totais\n",
    "SQReg = sum((y-y.mean())**2)\n",
    "\n",
    "#Cálculo do Coeficiente de Determinação\n",
    "r2 = 1 - SQRes/SQReg\n",
    "round(r2,4)"
   ]
  },
  {
   "cell_type": "markdown",
   "id": "6f1c59bf",
   "metadata": {},
   "source": [
    "# Problemas de Inferência\n",
    "\n",
    "A inferência estatística é o campo na estatística que estuda como é possível a partir de uma amostra (parte) inferir algo sobre a população (todo). A inferência se faz necessária pois muitas vezes é impossível ou muito custoso coletar informação sobre toda a população enquanto é possível dado uma amostra suficiente boa inferir com confiança algo da população, um exemplo típico são as pesquisas eleitorais.\n",
    "\n",
    "Uma vez obtida uma amostra, podemos a partir dela gerar informações tais como sua média, desvio-padrão ou no caso de um modelo de regressão estimar os parâmetros de uma função de regressão amostral (FRA). Na nossa função de regressão encontramos valores pontuais para os nossos parâmetros estimados ($\\hat{\\beta}_1$), entretanto não leva em consideração o possível erro desta estimação, ou seja, o parâmetro estimado pode ser diferente do valor inicialmente encontrado. A forma para mensurar essa \"margem de erro\" é por meio do intervalo de confiança:\n",
    "\n",
    "### Intervalo de Confiança\n",
    "\n",
    "O intervalo de confiança representa os limites de valores que contém os coeficiente estimado $\\hat{\\beta}_i$ sob um nível de significância ($\\alpha$) onde espera-se que ($1 - \\alpha$) dos valores do coeficiente estariam distribuídos dentro deste limite. Para ilustar, considere os retornos de um ativo com média $\\bar{x} = 0$ e desvio-padrão $\\sigma = 1$, no limite espera-se que com 95% de confiança a média $\\bar{x} = 0$ esteja entre mais ou menos -2 e 2 desvios-padrões ($\\sigma$) assumindo que os dados estejam normalmente distribuídos. "
   ]
  },
  {
   "cell_type": "markdown",
   "id": "23ab6ffb",
   "metadata": {},
   "source": [
    "### Erro Padrão do Estimador\n",
    "\n",
    "O erro padrão ($ep$) dos estimadores é utilizado para medir a sua confiabilidade, quanto menor o erro padrão ($ep$) menor será a probabilidade de ter obtido um estimador diferente dos coeficientes verdadeiros da população. O calculo dos estimadores segue a fórmula abaixo: \n",
    "\n",
    "$ ep(\\hat{\\beta}_1) = \\large \\sqrt{\\frac{\\sum_{i=1}^{n} \\varepsilon_i^2}{(n-2) \\sum_{i=1}^{n} (x_i - \\bar{x})^2}} $\n",
    "\n",
    "$ ep(\\hat{\\beta}_0) = ep(\\hat{\\beta}_1) \\cdot \\large \\sqrt{\\frac{\\sum_{i=1}^{n} x_i^2}{n}}$"
   ]
  },
  {
   "cell_type": "code",
   "execution_count": 23,
   "id": "38c9ce64",
   "metadata": {},
   "outputs": [
    {
     "data": {
      "text/plain": [
       "0.4453303880172949"
      ]
     },
     "execution_count": 23,
     "metadata": {},
     "output_type": "execute_result"
    }
   ],
   "source": [
    "#Calculo do erro padrão do resíduo\n",
    "\n",
    "s = (sum(df['Residuos']**2) / (len(df)-2))**0.5\n",
    "s"
   ]
  },
  {
   "cell_type": "code",
   "execution_count": 24,
   "id": "541f58fc",
   "metadata": {},
   "outputs": [
    {
     "data": {
      "text/plain": [
       "0.02732027602409967"
      ]
     },
     "execution_count": 24,
     "metadata": {},
     "output_type": "execute_result"
    }
   ],
   "source": [
    "#Calculo do erro padrão do coeficiente angular\n",
    "\n",
    "sb = s / (sum((x-x.mean())**2))**0.5\n",
    "sb"
   ]
  },
  {
   "cell_type": "code",
   "execution_count": 25,
   "id": "2d621d48",
   "metadata": {},
   "outputs": [
    {
     "data": {
      "text/plain": [
       "0.2985736460470097"
      ]
     },
     "execution_count": 25,
     "metadata": {},
     "output_type": "execute_result"
    }
   ],
   "source": [
    "#Calculo do erro padrão da constante\n",
    "\n",
    "sa = sb * (sum(x**2)/len(df))**(0.5)\n",
    "sa"
   ]
  },
  {
   "cell_type": "markdown",
   "id": "476dcbae",
   "metadata": {},
   "source": [
    "### Intervalo de Confiança dos Estimadores\n",
    "\n",
    "Com os erros padrões calculados, o intervalo de confiança para uma distribuição do tipo $t$ de student pode ser calculado como: \n",
    "\n",
    "$\n",
    "\\text{Intervalo de Confiança} = \\hat{\\beta}_i \\pm t_{\\alpha / 2} \\cdot {ep(\\hat{\\beta}_i)} \\\\\n",
    "$\n",
    "\n",
    "$ \n",
    "\\hat{\\beta}_i = \\text{Coeficiente estimado} \\\\\n",
    "t_{\\alpha / 2} = \\text{t crítico para um nível de significância }\\alpha\\\\\n",
    "ep = \\text{Desvio (erro) padrão do estimador}\n",
    "$"
   ]
  },
  {
   "cell_type": "code",
   "execution_count": 26,
   "id": "6ad6caaa",
   "metadata": {},
   "outputs": [
    {
     "name": "stdout",
     "output_type": "stream",
     "text": [
      "Limite Inferior: 0.314 \n",
      "Limite Superior: 0.35\n",
      "Nível de Significância: 5.0 %\n"
     ]
    }
   ],
   "source": [
    "#Cálculo do Intervalo de Confiança\n",
    "\n",
    "from scipy.stats import t\n",
    "\n",
    "# Graus de Liberdade\n",
    "num_coef = 2\n",
    "tamanho_amostra = len(df)\n",
    "graus_de_liberdade = tamanho_amostra - num_coef\n",
    "media = 0\n",
    "\n",
    "# Nível de significância escolhido\n",
    "nivel_significancia = 0.05\n",
    "\n",
    "# Calculo do intervalo do t crítico considerando uma distribuição t de student\n",
    "t_critico = t.ppf(1 - nivel_significancia/2, graus_de_liberdade)\n",
    "\n",
    "# Calculo do intervalo de confiança\n",
    "ic_inferior = b - b * t_critico * sb\n",
    "ic_superior = b + b * t_critico * sb\n",
    "\n",
    "print(f\"Limite Inferior: {round(ic_inferior,3)} \\nLimite Superior: {round(ic_superior,3)}\")\n",
    "print(f\"Nível de Significância: {nivel_significancia*100} %\")"
   ]
  },
  {
   "cell_type": "markdown",
   "id": "0b58fa69",
   "metadata": {},
   "source": [
    "### Teste T\n",
    "\n",
    "O teste t é um teste estatístico utilizado quando a variância da população é desconhecida, a distribuição $t$ de student tende a ter caudas um pouco mais \"gordas\" do que a distribuição normal. Calcula-se o teste t para os coeficientes estimados ($\\hat{\\beta}_i$) que serão posteriormente utilizados nos testes de hipóteses:\n",
    "\n",
    "$\n",
    "t = \\large \\frac {\\hat{\\beta}_i}{ep(\\hat{\\beta}_i)}\\\\[10pt]\n",
    "$\n",
    "\n",
    "$ \n",
    "\\hat{\\beta}_i = \\text{Coeficiente estimado} \\\\[0pt]\n",
    "ep(\\hat{\\beta}_i) = \\text{Erro) padrão do estimador}\n",
    "$\n",
    "\n",
    "Associado ao teste t encontrado, há uma probabilidade de obter este valor em uma distribuição do tipo $t$ de student com $n$ graus de liberdade.\n",
    "\n",
    "### Teste de Hipótese\n",
    "\n",
    "Segundo Gujarati, na linguagem dos testes de significância, uma estatística é dita significativa se o valor do teste estatístico situar-se na região crítica, neste caso, a hipótese nula é rejeitada. Ao calcular o teste t, verifica-se se ele se encontra dentro ou fora do intervalo de confiança, caso ele esteja fora do intervalo então podemos rejeitar a hipótese nula $H_0$ de que o estimador é igual a zero e aceitar a hipótese alternativa $H_1$ de que ele é diferente de zero. \n",
    "\n",
    "$\n",
    "H_0: \\hat{\\beta}_1 = 0 \\\\\n",
    "H_1: \\hat{\\beta}_1 \\neq 0\n",
    "$\n",
    "\n",
    "Uma hipótese muito importante de ser testada é que $ H_0: \\hat{\\beta}_i = 0 $, caso rejeite esta hipótese nula então pode-se afirmar que o coeficiente estimado tem alguma relação significativa com a variável dependente $Y_i$. A forma de fazer isso é relativamente simples, ao calcular o teste t, verifica-se o valor encontrado dentro de uma distribuição $t$ de student com $n$ graus de liberdade, caso a probabilidade de obter este valor seja menor que o nível de significância escolhido, então rejeita-se a hipótese nula. \n",
    "\n",
    "Distribuição t de Student: https://pt.wikipedia.org/wiki/Distribui%C3%A7%C3%A3o_t_de_Student \n",
    "\n",
    "Teste t de Student: https://pt.wikipedia.org/wiki/Teste_t_de_Student"
   ]
  },
  {
   "cell_type": "code",
   "execution_count": 27,
   "id": "214a7487",
   "metadata": {},
   "outputs": [
    {
     "name": "stdout",
     "output_type": "stream",
     "text": [
      "12.143548185098567\n",
      "-0.6176373754548199\n"
     ]
    }
   ],
   "source": [
    "t_angular = b/sb\n",
    "t_constante = a/sa\n",
    "\n",
    "print(t_angular)\n",
    "print(t_constante)"
   ]
  },
  {
   "cell_type": "code",
   "execution_count": 28,
   "id": "8f40abb0",
   "metadata": {},
   "outputs": [
    {
     "data": {
      "text/plain": [
       "63"
      ]
     },
     "execution_count": 28,
     "metadata": {},
     "output_type": "execute_result"
    }
   ],
   "source": [
    "graus_de_liberdade"
   ]
  },
  {
   "cell_type": "code",
   "execution_count": 29,
   "id": "e707db85",
   "metadata": {},
   "outputs": [
    {
     "name": "stdout",
     "output_type": "stream",
     "text": [
      "A probabilidade de obter de obter um valor t de -0.618 é de 0.539040624719575.\n",
      "A probabilidade de obter de obter um valor t de 12.144 é de 3.749665041013005e-18.\n"
     ]
    }
   ],
   "source": [
    "# O cálculo da probabilidade dos testes t podem ser calculadas conforme funções abaixo: \n",
    "\n",
    "p_value_constante = stats.t.sf(-t_constante, graus_de_liberdade)*2\n",
    "p_value_angular = stats.t.sf(t_angular, graus_de_liberdade)*2\n",
    "\n",
    "print(f\"A probabilidade de obter de obter um valor t de {round(t_constante,3)} é de {p_value_constante}.\")\n",
    "print(f\"A probabilidade de obter de obter um valor t de {round(t_angular,3)} é de {p_value_angular}.\")"
   ]
  },
  {
   "cell_type": "markdown",
   "id": "44a3e429",
   "metadata": {},
   "source": [
    "### Teste F\n",
    "\n",
    "Outro teste que pode ser feito é o teste F que permite avaliar se o modelo de regressão é significativo globalmente. Ele compara a variança explicada pelo modelo (SQreg) com a não explicada pelo modelo (SQRes) e associa um valor-p ao resultado.\n",
    "\n",
    "$F = \\large \\frac{SQReg - SQRes}{SQRes / (n - p - 1)}$\n",
    "\n",
    "$\n",
    "SQReg = \\text{Soma do Quadrado da Regressão} \\\\\n",
    "SQRes = \\text{Soma do Quadrado dos Resíduos} \\\\\n",
    "p = \\text{Número de parâmetros} \\\\\n",
    "n = \\text{Número de observações} \\\\\n",
    "$"
   ]
  },
  {
   "cell_type": "code",
   "execution_count": 30,
   "id": "facc6576",
   "metadata": {},
   "outputs": [
    {
     "data": {
      "text/plain": [
       "147.46576252380828"
      ]
     },
     "execution_count": 30,
     "metadata": {},
     "output_type": "execute_result"
    }
   ],
   "source": [
    "F = (SQReg-SQRes)/(SQRes/(tamanho_amostra-2))\n",
    "F"
   ]
  },
  {
   "cell_type": "code",
   "execution_count": 31,
   "id": "78dba18e",
   "metadata": {},
   "outputs": [
    {
     "name": "stdout",
     "output_type": "stream",
     "text": [
      "A probabilidade de obter de obter um valor f de 147.47 é de 3.7496650410143925e-18\n"
     ]
    }
   ],
   "source": [
    "p_value_f = stats.f.sf(F, 1, graus_de_liberdade)\n",
    "print(f\"A probabilidade de obter de obter um valor f de {round(F,2)} é de {p_value_f}\")"
   ]
  },
  {
   "cell_type": "markdown",
   "id": "dca0726c",
   "metadata": {},
   "source": [
    "## Resultado Final"
   ]
  },
  {
   "cell_type": "code",
   "execution_count": 38,
   "id": "dfde3a6d",
   "metadata": {},
   "outputs": [
    {
     "data": {
      "text/plain": [
       "<matplotlib.legend.Legend at 0x1d3745489d0>"
      ]
     },
     "execution_count": 38,
     "metadata": {},
     "output_type": "execute_result"
    },
    {
     "data": {
      "image/png": "[encoded data removed]",
      "text/plain": [
       "<Figure size 1000x800 with 2 Axes>"
      ]
     },
     "metadata": {},
     "output_type": "display_data"
    }
   ],
   "source": [
    "fig = plt.figure(figsize=(10,8))\n",
    "\n",
    "gs = fig.add_gridspec(nrows = 10, ncols = 1)\n",
    "\n",
    "ax1 = fig.add_subplot(gs[0:6, 0])\n",
    "ax2 = fig.add_subplot(gs[7:10, 0])\n",
    "\n",
    "#Gráfico de Dispersão\n",
    "ax1.set_title('Regressão Linear: Produtividade e Escolaridade')\n",
    "ax1.scatter(x, y)\n",
    "\n",
    "#Reta de Regressão\n",
    "ax1.plot(x, df['Previsto'], color = 'red', \n",
    "         label = f\"    ln(y) = {round(a,2)} + {round(b,2)} x\"+\n",
    "         f\"\\nt:            ({round(t_constante,2)}) ({round(t_angular,2)})\"+\n",
    "         f\"\\np_valor: ({round(p_value_constante,4)})     ({round(p_value_angular,4)})\"+\n",
    "         f\"\\nR2 = {round(r2*100,2)}%\\nF =  {round(F,2)}\\nn = {graus_de_liberdade}\")\n",
    "ax1.set_ylabel('ln(Produtividade)')\n",
    "ax1.set_xlabel('Anos de estudo')\n",
    "ax1.legend()\n",
    "\n",
    "#Gráfico da Previsão\n",
    "ax2.set_title('Produtividade: Observado e Previsto')\n",
    "ax2.plot(y, label = 'Observado', linewidth=2)\n",
    "ax2.plot(df['Previsto'], label = 'Previsto', c ='red', linewidth=1.5)\n",
    "ax2.set_xlabel('Observações')\n",
    "ax2.set_ylabel('ln(Produtividade)')\n",
    "ax2.legend()"
   ]
  },
  {
   "cell_type": "markdown",
   "id": "950cd19c",
   "metadata": {},
   "source": [
    "### Validação dos Dados com Statsmodels\n",
    "\n",
    "Podemos agora comparar os resultados calculados manualmente com que obteríamos utilizando uma biblioteca como a statmodels."
   ]
  },
  {
   "cell_type": "code",
   "execution_count": 34,
   "id": "4304f550",
   "metadata": {},
   "outputs": [
    {
     "data": {
      "text/html": [
       "<table class=\"simpletable\">\n",
       "<caption>OLS Regression Results</caption>\n",
       "<tr>\n",
       "  <th>Dep. Variable:</th>      <td>Produtividade</td>  <th>  R-squared:         </th> <td>   0.701</td>\n",
       "</tr>\n",
       "<tr>\n",
       "  <th>Model:</th>                   <td>OLS</td>       <th>  Adj. R-squared:    </th> <td>   0.696</td>\n",
       "</tr>\n",
       "<tr>\n",
       "  <th>Method:</th>             <td>Least Squares</td>  <th>  F-statistic:       </th> <td>   147.5</td>\n",
       "</tr>\n",
       "<tr>\n",
       "  <th>Date:</th>             <td>Sat, 27 Jan 2024</td> <th>  Prob (F-statistic):</th> <td>3.75e-18</td>\n",
       "</tr>\n",
       "<tr>\n",
       "  <th>Time:</th>                 <td>15:31:16</td>     <th>  Log-Likelihood:    </th> <td> -38.634</td>\n",
       "</tr>\n",
       "<tr>\n",
       "  <th>No. Observations:</th>      <td>    65</td>      <th>  AIC:               </th> <td>   81.27</td>\n",
       "</tr>\n",
       "<tr>\n",
       "  <th>Df Residuals:</th>          <td>    63</td>      <th>  BIC:               </th> <td>   85.62</td>\n",
       "</tr>\n",
       "<tr>\n",
       "  <th>Df Model:</th>              <td>     1</td>      <th>                     </th>     <td> </td>   \n",
       "</tr>\n",
       "<tr>\n",
       "  <th>Covariance Type:</th>      <td>nonrobust</td>    <th>                     </th>     <td> </td>   \n",
       "</tr>\n",
       "</table>\n",
       "<table class=\"simpletable\">\n",
       "<tr>\n",
       "         <td></td>           <th>coef</th>     <th>std err</th>      <th>t</th>      <th>P>|t|</th>  <th>[0.025</th>    <th>0.975]</th>  \n",
       "</tr>\n",
       "<tr>\n",
       "  <th>const</th>          <td>   -0.1844</td> <td>    0.299</td> <td>   -0.618</td> <td> 0.539</td> <td>   -0.781</td> <td>    0.412</td>\n",
       "</tr>\n",
       "<tr>\n",
       "  <th>Anos de Estudo</th> <td>    0.3318</td> <td>    0.027</td> <td>   12.144</td> <td> 0.000</td> <td>    0.277</td> <td>    0.386</td>\n",
       "</tr>\n",
       "</table>\n",
       "<table class=\"simpletable\">\n",
       "<tr>\n",
       "  <th>Omnibus:</th>       <td> 2.496</td> <th>  Durbin-Watson:     </th> <td>   2.201</td>\n",
       "</tr>\n",
       "<tr>\n",
       "  <th>Prob(Omnibus):</th> <td> 0.287</td> <th>  Jarque-Bera (JB):  </th> <td>   2.432</td>\n",
       "</tr>\n",
       "<tr>\n",
       "  <th>Skew:</th>          <td> 0.448</td> <th>  Prob(JB):          </th> <td>   0.296</td>\n",
       "</tr>\n",
       "<tr>\n",
       "  <th>Kurtosis:</th>      <td> 2.693</td> <th>  Cond. No.          </th> <td>    59.6</td>\n",
       "</tr>\n",
       "</table><br/><br/>Notes:<br/>[1] Standard Errors assume that the covariance matrix of the errors is correctly specified."
      ],
      "text/plain": [
       "<class 'statsmodels.iolib.summary.Summary'>\n",
       "\"\"\"\n",
       "                            OLS Regression Results                            \n",
       "==============================================================================\n",
       "Dep. Variable:          Produtividade   R-squared:                       0.701\n",
       "Model:                            OLS   Adj. R-squared:                  0.696\n",
       "Method:                 Least Squares   F-statistic:                     147.5\n",
       "Date:                Sat, 27 Jan 2024   Prob (F-statistic):           3.75e-18\n",
       "Time:                        15:31:16   Log-Likelihood:                -38.634\n",
       "No. Observations:                  65   AIC:                             81.27\n",
       "Df Residuals:                      63   BIC:                             85.62\n",
       "Df Model:                           1                                         \n",
       "Covariance Type:            nonrobust                                         \n",
       "==================================================================================\n",
       "                     coef    std err          t      P>|t|      [0.025      0.975]\n",
       "----------------------------------------------------------------------------------\n",
       "const             -0.1844      0.299     -0.618      0.539      -0.781       0.412\n",
       "Anos de Estudo     0.3318      0.027     12.144      0.000       0.277       0.386\n",
       "==============================================================================\n",
       "Omnibus:                        2.496   Durbin-Watson:                   2.201\n",
       "Prob(Omnibus):                  0.287   Jarque-Bera (JB):                2.432\n",
       "Skew:                           0.448   Prob(JB):                        0.296\n",
       "Kurtosis:                       2.693   Cond. No.                         59.6\n",
       "==============================================================================\n",
       "\n",
       "Notes:\n",
       "[1] Standard Errors assume that the covariance matrix of the errors is correctly specified.\n",
       "\"\"\""
      ]
     },
     "execution_count": 34,
     "metadata": {},
     "output_type": "execute_result"
    }
   ],
   "source": [
    "X = sm.add_constant(x)\n",
    "modelo = sm.OLS(y, X)\n",
    "resultados = modelo.fit()\n",
    "resultados.summary()"
   ]
  }
 ],
 "metadata": {
  "kernelspec": {
   "display_name": "Python 3 (ipykernel)",
   "language": "python",
   "name": "python3"
  },
  "language_info": {
   "codemirror_mode": {
    "name": "ipython",
    "version": 3
   },
   "file_extension": ".py",
   "mimetype": "text/x-python",
   "name": "python",
   "nbconvert_exporter": "python",
   "pygments_lexer": "ipython3",
   "version": "3.11.3"
  }
 },
 "nbformat": 4,
 "nbformat_minor": 5
}
